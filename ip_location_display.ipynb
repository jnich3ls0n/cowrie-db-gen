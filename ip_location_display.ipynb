{
 "cells": [
  {
   "cell_type": "markdown",
   "metadata": {},
   "source": [
    "# Botnet IP-Location Data"
   ]
  },
  {
   "cell_type": "code",
   "execution_count": null,
   "metadata": {
    "collapsed": true
   },
   "outputs": [],
   "source": [
    "from sqlalchemy import create_engine\n",
    "from declarative import DB_DIALECT, DB_DIR, DB_NAME\n",
    "from declarative import SrcIPLocation, LoginSuccess, LoginFailed, CommandInput\n",
    "import pandas as pd\n",
    "from collections import Counter\n"
   ]
  },
  {
   "cell_type": "markdown",
   "metadata": {},
   "source": [
    "## Queries:"
   ]
  },
  {
   "cell_type": "code",
   "execution_count": null,
   "metadata": {
    "collapsed": true
   },
   "outputs": [],
   "source": [
    "ECHO = False\n",
    "\n",
    "pd.set_option('display.max_rows', None)\n",
    "\n",
    "engine = create_engine(DB_DIALECT + DB_DIR + DB_NAME, echo=ECHO)\n",
    "\n",
    "loc = pd.read_sql_table(SrcIPLocation.__tablename__, engine)[['id', 'src_ip', 'country_name', 'state_name', 'city_name']]\n",
    "success = pd.read_sql_table(LoginSuccess.__tablename__, engine)[['timestamp', 'src_ip']]\n",
    "failed = pd.read_sql_table(LoginFailed.__tablename__, engine)[['timestamp', 'src_ip', 'username', 'password']]\n",
    "success_loc = pd.merge(loc, success, on='src_ip')\n",
    "failed_loc = pd.merge(loc, failed, on='src_ip')\n",
    "inputs = pd.read_sql_table(CommandInput.__tablename__, engine)\n"
   ]
  },
  {
   "cell_type": "markdown",
   "metadata": {},
   "source": [
    "## Total Unique IP Count:"
   ]
  },
  {
   "cell_type": "code",
   "execution_count": null,
   "metadata": {
    "scrolled": true
   },
   "outputs": [],
   "source": [
    "loc.count()['src_ip']"
   ]
  },
  {
   "cell_type": "markdown",
   "metadata": {},
   "source": [
    "## Most Common Countries of Origin:"
   ]
  },
  {
   "cell_type": "code",
   "execution_count": null,
   "metadata": {},
   "outputs": [],
   "source": [
    "country_count = Counter(loc['country_name'])\n",
    "country_ips = pd.DataFrame(country_count.most_common(10), columns=['country_name', 'unique_ips'])\n",
    "country_ips\n"
   ]
  },
  {
   "cell_type": "markdown",
   "metadata": {},
   "source": [
    "## Successful Login Count:"
   ]
  },
  {
   "cell_type": "code",
   "execution_count": null,
   "metadata": {},
   "outputs": [],
   "source": [
    "success_loc.count()['src_ip']"
   ]
  },
  {
   "cell_type": "markdown",
   "metadata": {},
   "source": [
    "## Successful Unique IP Count:"
   ]
  },
  {
   "cell_type": "code",
   "execution_count": null,
   "metadata": {},
   "outputs": [],
   "source": [
    "ips = success['src_ip']\n",
    "len(set(ips))"
   ]
  },
  {
   "cell_type": "markdown",
   "metadata": {},
   "source": [
    "## Total Unique IP Location Data:"
   ]
  },
  {
   "cell_type": "code",
   "execution_count": null,
   "metadata": {},
   "outputs": [],
   "source": [
    "loc.sort_values(by='country_name')"
   ]
  },
  {
   "cell_type": "markdown",
   "metadata": {},
   "source": [
    "## Successful Login IP Data:"
   ]
  },
  {
   "cell_type": "code",
   "execution_count": null,
   "metadata": {},
   "outputs": [],
   "source": [
    "success_loc.sort_values(by='timestamp', ascending=False)[['id', 'timestamp', 'src_ip', 'country_name', \n",
    "                                                          'state_name', 'city_name']]"
   ]
  },
  {
   "cell_type": "markdown",
   "metadata": {},
   "source": [
    "## Most Recent Login Failures:"
   ]
  },
  {
   "cell_type": "code",
   "execution_count": null,
   "metadata": {},
   "outputs": [],
   "source": [
    "failed_loc.sort_values(by='timestamp', ascending=False)[['id', 'timestamp', 'src_ip', 'country_name', \n",
    "                                                          'state_name', 'city_name', 'username', 'password']].head(50)"
   ]
  },
  {
   "cell_type": "markdown",
   "metadata": {},
   "source": [
    "## Most Common Failed Login Attempts:"
   ]
  },
  {
   "cell_type": "code",
   "execution_count": null,
   "metadata": {},
   "outputs": [],
   "source": [
    "df_failed_logins = failed[['username', 'password']]\n",
    "l_failed_logins = [(x[0], x[1]) for x in df_failed_logins.values]\n",
    "c_failed_logins = Counter(l_failed_logins).most_common(20)\n",
    "\n",
    "pd.DataFrame([[x[0][0], x[0][1], x[1]] for x in c_failed_logins], columns=['username', 'password', 'count'])\n",
    "    "
   ]
  }
 ],
 "metadata": {
  "kernelspec": {
   "display_name": "Python 3",
   "language": "python",
   "name": "python3"
  },
  "language_info": {
   "codemirror_mode": {
    "name": "ipython",
    "version": 3
   },
   "file_extension": ".py",
   "mimetype": "text/x-python",
   "name": "python",
   "nbconvert_exporter": "python",
   "pygments_lexer": "ipython3",
   "version": "3.6.3"
  }
 },
 "nbformat": 4,
 "nbformat_minor": 2
}
